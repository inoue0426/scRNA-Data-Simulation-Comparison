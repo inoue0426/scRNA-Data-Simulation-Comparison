{
  "nbformat": 4,
  "nbformat_minor": 0,
  "metadata": {
    "colab": {
      "name": "zinbwave.ipynb",
      "provenance": [],
      "authorship_tag": "ABX9TyMlliiXgfS8buRsrktgUT/y",
      "include_colab_link": true
    },
    "kernelspec": {
      "name": "ir",
      "display_name": "R"
    },
    "language_info": {
      "name": "R"
    }
  },
  "cells": [
    {
      "cell_type": "markdown",
      "metadata": {
        "id": "view-in-github",
        "colab_type": "text"
      },
      "source": [
        "<a href=\"https://colab.research.google.com/github/inoue0426/scRNA-Data-Simulation-Comparison/blob/main/notebooks/zinbwave.ipynb\" target=\"_parent\"><img src=\"https://colab.research.google.com/assets/colab-badge.svg\" alt=\"Open In Colab\"/></a>"
      ]
    },
    {
      "cell_type": "code",
      "execution_count": 6,
      "metadata": {
        "colab": {
          "base_uri": "https://localhost:8080/"
        },
        "id": "oic7NWnP_MCL",
        "outputId": "a592d1aa-d9c5-4173-93c8-8bad9fe07f27"
      },
      "outputs": [
        {
          "output_type": "stream",
          "name": "stderr",
          "text": [
            "'getOption(\"repos\")' replaces Bioconductor standard repositories, see\n",
            "'?repositories' for details\n",
            "\n",
            "replacement repositories:\n",
            "    CRAN: https://cran.rstudio.com\n",
            "\n",
            "\n",
            "Bioconductor version 3.14 (BiocManager 1.30.16), R 4.1.3 (2022-03-10)\n",
            "\n",
            "Installing package(s) 'scRNAseq'\n",
            "\n",
            "Old packages: 'crayon', 'fansi', 'gert', 'knitr', 'magrittr', 'processx',\n",
            "  'RColorBrewer', 'readxl', 'rprojroot', 'sass', 'testthat', 'tinytex', 'tzdb',\n",
            "  'vctrs', 'cluster', 'MASS', 'Matrix', 'mgcv', 'nlme'\n",
            "\n"
          ]
        }
      ],
      "source": [
        "if (!require(\"BiocManager\", quietly = TRUE))\n",
        "    install.packages(\"BiocManager\")\n",
        "\n",
        "# BiocManager::install(\"zinbwave\")\n",
        "BiocManager::install(\"scRNAseq\")"
      ]
    },
    {
      "cell_type": "code",
      "source": [
        "library(zinbwave)\n",
        "library(scRNAseq)\n",
        "library(matrixStats)\n",
        "library(magrittr)\n",
        "library(ggplot2)\n",
        "library(biomaRt)\n",
        "\n",
        "# Register BiocParallel Serial Execution\n",
        "BiocParallel::register(BiocParallel::SerialParam())"
      ],
      "metadata": {
        "colab": {
          "base_uri": "https://localhost:8080/"
        },
        "id": "nu-89_r1_SjR",
        "outputId": "4eaf8705-bec9-4568-dc9c-b9b4a9452d56"
      },
      "execution_count": 7,
      "outputs": [
        {
          "output_type": "stream",
          "name": "stderr",
          "text": [
            "\n",
            "Attaching package: 'biomaRt'\n",
            "\n",
            "\n",
            "The following object is masked from 'package:scRNAseq':\n",
            "\n",
            "    listDatasets\n",
            "\n",
            "\n"
          ]
        }
      ]
    },
    {
      "cell_type": "code",
      "source": [
        "fluidigm <- ReprocessedFluidigmData(assays = \"tophat_counts\")\n",
        "fluidigm"
      ],
      "metadata": {
        "colab": {
          "base_uri": "https://localhost:8080/",
          "height": 693
        },
        "id": "5p_J5tJuCNsm",
        "outputId": "1f8ae463-458f-45e2-8c01-50dba04762d1"
      },
      "execution_count": 8,
      "outputs": [
        {
          "output_type": "stream",
          "name": "stderr",
          "text": [
            "snapshotDate(): 2021-10-19\n",
            "\n",
            "see ?scRNAseq and browseVignettes('scRNAseq') for documentation\n",
            "\n",
            "downloading 1 resources\n",
            "\n",
            "retrieving 1 resource\n",
            "\n",
            "loading from cache\n",
            "\n",
            "see ?scRNAseq and browseVignettes('scRNAseq') for documentation\n",
            "\n",
            "downloading 1 resources\n",
            "\n",
            "retrieving 1 resource\n",
            "\n",
            "loading from cache\n",
            "\n",
            "see ?scRNAseq and browseVignettes('scRNAseq') for documentation\n",
            "\n",
            "downloading 1 resources\n",
            "\n",
            "retrieving 1 resource\n",
            "\n",
            "loading from cache\n",
            "\n"
          ]
        },
        {
          "output_type": "display_data",
          "data": {
            "text/plain": [
              "class: SingleCellExperiment \n",
              "dim: 26255 130 \n",
              "metadata(3): sample_info clusters which_qc\n",
              "assays(1): tophat_counts\n",
              "rownames(26255): A1BG A1BG-AS1 ... ZZEF1 ZZZ3\n",
              "rowData names(0):\n",
              "colnames(130): SRR1275356 SRR1274090 ... SRR1275366 SRR1275261\n",
              "colData names(28): NREADS NALIGNED ... Cluster1 Cluster2\n",
              "reducedDimNames(0):\n",
              "mainExpName: NULL\n",
              "altExpNames(0):"
            ]
          },
          "metadata": {}
        }
      ]
    },
    {
      "cell_type": "code",
      "source": [
        "filter <- rowSums(assay(fluidigm)>5)>5\n",
        "table(filter)"
      ],
      "metadata": {
        "colab": {
          "base_uri": "https://localhost:8080/",
          "height": 72
        },
        "id": "r5nSlTXYFR35",
        "outputId": "be13d3bc-3e54-46ca-e126-afd7763e2b10"
      },
      "execution_count": 11,
      "outputs": [
        {
          "output_type": "display_data",
          "data": {
            "text/plain": [
              "filter\n",
              "FALSE  TRUE \n",
              "16127 10128 "
            ]
          },
          "metadata": {}
        }
      ]
    },
    {
      "cell_type": "code",
      "source": [
        "fluidigm <- fluidigm[filter,]"
      ],
      "metadata": {
        "id": "O9HCOdlXGWqP"
      },
      "execution_count": 12,
      "outputs": []
    },
    {
      "cell_type": "code",
      "source": [
        "assay(fluidigm) %>% log1p %>% rowVars -> vars\n",
        "names(vars) <- rownames(fluidigm)\n",
        "vars <- sort(vars, decreasing = TRUE)\n",
        "head(vars)"
      ],
      "metadata": {
        "colab": {
          "base_uri": "https://localhost:8080/",
          "height": 52
        },
        "id": "zxZdHGcjGYUb",
        "outputId": "5221a291-066e-4726-a2d4-a8a3804f4776"
      },
      "execution_count": 13,
      "outputs": [
        {
          "output_type": "display_data",
          "data": {
            "text/html": [
              "<style>\n",
              ".dl-inline {width: auto; margin:0; padding: 0}\n",
              ".dl-inline>dt, .dl-inline>dd {float: none; width: auto; display: inline-block}\n",
              ".dl-inline>dt::after {content: \":\\0020\"; padding-right: .5ex}\n",
              ".dl-inline>dt:not(:first-of-type) {padding-left: .5ex}\n",
              "</style><dl class=dl-inline><dt>IGFBPL1</dt><dd>13.0610854114514</dd><dt>STMN2</dt><dd>12.2474807868534</dd><dt>EGR1</dt><dd>11.906079346295</dd><dt>ANP32E</dt><dd>11.6781929256875</dd><dt>CENPF</dt><dd>10.837972293027</dd><dt>LDHA</dt><dd>10.723069765259</dd></dl>\n"
            ],
            "text/markdown": "IGFBPL1\n:   13.0610854114514STMN2\n:   12.2474807868534EGR1\n:   11.906079346295ANP32E\n:   11.6781929256875CENPF\n:   10.837972293027LDHA\n:   10.723069765259\n\n",
            "text/latex": "\\begin{description*}\n\\item[IGFBPL1] 13.0610854114514\n\\item[STMN2] 12.2474807868534\n\\item[EGR1] 11.906079346295\n\\item[ANP32E] 11.6781929256875\n\\item[CENPF] 10.837972293027\n\\item[LDHA] 10.723069765259\n\\end{description*}\n",
            "text/plain": [
              " IGFBPL1    STMN2     EGR1   ANP32E    CENPF     LDHA \n",
              "13.06109 12.24748 11.90608 11.67819 10.83797 10.72307 "
            ]
          },
          "metadata": {}
        }
      ]
    },
    {
      "cell_type": "code",
      "source": [
        "fluidigm <- fluidigm[names(vars)[1:100],]"
      ],
      "metadata": {
        "id": "SGH4cIvhGZr4"
      },
      "execution_count": 14,
      "outputs": []
    },
    {
      "cell_type": "code",
      "source": [
        "assayNames(fluidigm)[1] <- \"counts\""
      ],
      "metadata": {
        "id": "FuQ6lpn_GbTq"
      },
      "execution_count": 15,
      "outputs": []
    },
    {
      "cell_type": "code",
      "source": [
        "fluidigm_zinb <- zinbwave(fluidigm, K = 2, epsilon=1000)"
      ],
      "metadata": {
        "id": "df8wUYa5FaxP"
      },
      "execution_count": 16,
      "outputs": []
    },
    {
      "cell_type": "code",
      "source": [
        "W <- reducedDim(fluidigm_zinb)\n",
        "\n",
        "data.frame(\n",
        "  W, bio=colData(fluidigm)$Biological_Condition,\n",
        "  coverage=colData(fluidigm)$Coverage_Type) %>%\n",
        "    ggplot(aes(W1, W2, colour=bio, shape=coverage)) + geom_point() + \n",
        "    scale_color_brewer(type = \"qual\", palette = \"Set1\") + theme_classic()"
      ],
      "metadata": {
        "colab": {
          "base_uri": "https://localhost:8080/",
          "height": 437
        },
        "id": "OhZrJ1lMGNOH",
        "outputId": "65e38e5b-8338-498a-cedd-ba746accdc4d"
      },
      "execution_count": 17,
      "outputs": [
        {
          "output_type": "display_data",
          "data": {
            "text/plain": [
              "plot without title"
            ],
            "image/png": "[encoded data removed]"
          },
          "metadata": {
            "image/png": {
              "width": 420,
              "height": 420
            }
          }
        }
      ]
    },
    {
      "cell_type": "code",
      "source": [
        "fluidigm_cov <- zinbwave(fluidigm, K=2, X=\"~Coverage_Type\", epsilon=1000)"
      ],
      "metadata": {
        "id": "caEXr_btGo2I"
      },
      "execution_count": 18,
      "outputs": []
    },
    {
      "cell_type": "code",
      "source": [
        "W <- reducedDim(fluidigm_cov)\n",
        "\n",
        "data.frame(W, bio=colData(fluidigm)$Biological_Condition,\n",
        "           coverage=colData(fluidigm)$Coverage_Type) %>%\n",
        "    ggplot(aes(W1, W2, colour=bio, shape=coverage)) + geom_point() + \n",
        "    scale_color_brewer(type = \"qual\", palette = \"Set1\") + theme_classic()"
      ],
      "metadata": {
        "colab": {
          "base_uri": "https://localhost:8080/",
          "height": 437
        },
        "id": "pCWSW1P4G6Bh",
        "outputId": "8382d892-5ffd-4a4e-b07f-5d5fe083d36d"
      },
      "execution_count": 19,
      "outputs": [
        {
          "output_type": "display_data",
          "data": {
            "text/plain": [
              "plot without title"
            ],
            "image/png": "[encoded data removed]"
          },
          "metadata": {
            "image/png": {
              "width": 420,
              "height": 420
            }
          }
        }
      ]
    },
    {
      "cell_type": "code",
      "source": [
        "mart <- useMart(\"ensembl\")\n",
        "mart <- useDataset(\"hsapiens_gene_ensembl\", mart = mart)\n",
        "bm <- getBM(attributes=c('hgnc_symbol', 'start_position',\n",
        "                         'end_position', 'percentage_gene_gc_content'),\n",
        "            filters = 'hgnc_symbol',\n",
        "            values = rownames(fluidigm),\n",
        "            mart = mart)\n",
        "\n",
        "bm$length <- bm$end_position - bm$start_position\n",
        "len <- tapply(bm$length, bm$hgnc_symbol, mean)\n",
        "len <- len[rownames(fluidigm)]\n",
        "gcc <- tapply(bm$percentage_gene_gc_content, bm$hgnc_symbol, mean)\n",
        "gcc <- gcc[rownames(fluidigm)]"
      ],
      "metadata": {
        "id": "AgGuC4pUG7qZ"
      },
      "execution_count": 22,
      "outputs": []
    },
    {
      "cell_type": "code",
      "source": [
        ""
      ],
      "metadata": {
        "id": "N1UUGSh6Ia9q"
      },
      "execution_count": null,
      "outputs": []
    }
  ]
}